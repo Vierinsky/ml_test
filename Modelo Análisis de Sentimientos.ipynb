{
 "cells": [
  {
   "cell_type": "code",
   "execution_count": 8,
   "metadata": {},
   "outputs": [],
   "source": [
    "import pandas as pd\n",
    "from vaderSentiment.vaderSentiment import SentimentIntensityAnalyzer\n",
    "from imblearn.over_sampling import SMOTE\n",
    "from collections import Counter\n",
    "from sklearn.model_selection import GridSearchCV\n",
    "from sklearn.feature_extraction.text import TfidfVectorizer"
   ]
  },
  {
   "cell_type": "code",
   "execution_count": 2,
   "metadata": {},
   "outputs": [],
   "source": [
    "# Ruta al archivo Parquet\n",
    "ruta_archivo_parquet = r'C:\\Users\\guard\\OneDrive\\Desktop\\Henry Data Science\\Proyecto-FInal\\Datos\\gm_rev_NJNY_202502182030.parquet'\n",
    "\n",
    "# Leer el archivo Parquet en un DataFrame\n",
    "df = pd.read_parquet(ruta_archivo_parquet)\n",
    "\n",
    "# Asegurarnos de que no hay valores nulos en la columna 'text'\n",
    "df = df.dropna(subset=['text'])\n",
    "\n",
    "# Inicializar el analizador de sentimientos VADER\n",
    "analyzer = SentimentIntensityAnalyzer()\n",
    "\n",
    "# Definir una función para calcular la puntuación de sentimientos\n",
    "def analizar_sentimiento(texto):\n",
    "    if texto is None:\n",
    "        texto = \"\"  # Reemplazar valores nulos con cadena vacía\n",
    "    sentimientos = analyzer.polarity_scores(texto)\n",
    "    return sentimientos['compound']\n",
    "\n",
    "# Aplicar la función a la columna 'text' para obtener la puntuación de sentimientos\n",
    "df['sentimiento_puntuacion'] = df['text'].apply(analizar_sentimiento)\n"
   ]
  },
  {
   "cell_type": "code",
   "execution_count": 3,
   "metadata": {},
   "outputs": [],
   "source": [
    "# Crear una columna 'sentimiento' con valores categóricos basado en la puntuación de sentimientos\n",
    "df['sentimiento'] = df['sentimiento_puntuacion'].apply(lambda x: 'positivo' if x > 0 else 'negativo' if x < 0 else 'neutro')"
   ]
  },
  {
   "cell_type": "code",
   "execution_count": null,
   "metadata": {},
   "outputs": [
    {
     "name": "stdout",
     "output_type": "stream",
     "text": [
      "Distribución inicial de clases: Counter({'positivo': 76489, 'negativo': 8269, 'neutro': 5992})\n",
      "Distribución después de SMOTE: Counter({'positivo': 76489, 'negativo': 76489, 'neutro': 76489})\n"
     ]
    }
   ],
   "source": [
    "# Inicializar el vectorizador TF-IDF\n",
    "vectorizer = TfidfVectorizer()\n",
    "\n",
    "# Definir las características y etiquetas para el entrenamiento\n",
    "X_train_tfidf = vectorizer.fit_transform(df['text'])\n",
    "y_train = df['sentimiento']\n",
    "\n",
    "# Mostrar la distribución inicial de clases\n",
    "print(\"Distribución inicial de clases:\", Counter(y_train))\n",
    "\n",
    "# Aplicar SMOTE para realizar el sobremuestreo\n",
    "smote = SMOTE(random_state=42)\n",
    "X_train_res, y_train_res = smote.fit_resample(X_train_tfidf, y_train)\n",
    "\n",
    "# Mostrar la nueva distribución de clases\n",
    "print(\"Distribución después de SMOTE:\", Counter(y_train_res))\n"
   ]
  },
  {
   "cell_type": "code",
   "execution_count": 13,
   "metadata": {},
   "outputs": [
    {
     "name": "stdout",
     "output_type": "stream",
     "text": [
      "Mejores parámetros: {'C': 10, 'penalty': 'l1', 'solver': 'liblinear'}\n"
     ]
    }
   ],
   "source": [
    "from sklearn.linear_model import LogisticRegression\n",
    "\n",
    "# Definir los parámetros de la cuadrícula\n",
    "param_grid = {\n",
    "    'C': [0.01, 0.1, 1, 10, 100],\n",
    "    'penalty': ['l1', 'l2'],  # Normas de penalización L1 y L2\n",
    "    'solver': ['liblinear']  # Solvers compatibles con L1 y L2\n",
    "}\n",
    "\n",
    "# Inicializar el modelo\n",
    "modelo = LogisticRegression()\n",
    "\n",
    "# Configurar la búsqueda en cuadrícula\n",
    "grid_search = GridSearchCV(estimator=modelo, param_grid=param_grid, cv=5, scoring='f1_weighted', n_jobs=-1)\n",
    "\n",
    "# Entrenar el modelo con la búsqueda en cuadrícula\n",
    "grid_search.fit(X_train_res, y_train_res)\n",
    "\n",
    "# Obtener los mejores parámetros\n",
    "best_params = grid_search.best_params_\n",
    "print(\"Mejores parámetros:\", best_params)\n"
   ]
  },
  {
   "cell_type": "code",
   "execution_count": 16,
   "metadata": {},
   "outputs": [
    {
     "name": "stdout",
     "output_type": "stream",
     "text": [
      "              precision    recall  f1-score   support\n",
      "\n",
      "    negativo       0.83      0.96      0.89      1633\n",
      "      neutro       0.89      0.98      0.93      1130\n",
      "    positivo       1.00      0.97      0.98     15387\n",
      "\n",
      "    accuracy                           0.97     18150\n",
      "   macro avg       0.90      0.97      0.93     18150\n",
      "weighted avg       0.97      0.97      0.97     18150\n",
      "\n"
     ]
    }
   ],
   "source": [
    "from sklearn.metrics import classification_report\n",
    "\n",
    "# Entrenar el modelo con los mejores parámetros\n",
    "modelo_final = LogisticRegression(**best_params)\n",
    "modelo_final.fit(X_train_res, y_train_res)\n",
    "\n",
    "# Dividir los datos en conjuntos de entrenamiento y prueba\n",
    "from sklearn.model_selection import train_test_split\n",
    "X_train, X_test, y_train, y_test = train_test_split(df['text'], df['sentimiento'], test_size=0.2, random_state=42)\n",
    "\n",
    "# Transformar los datos de prueba usando el vectorizador TF-IDF\n",
    "X_test_tfidf = vectorizer.transform(X_test)\n",
    "\n",
    "# Entrenar el modelo con los mejores parámetros\n",
    "modelo_final = LogisticRegression(**best_params)\n",
    "modelo_final.fit(X_train_res, y_train_res)\n",
    "\n",
    "# Evaluar el modelo final\n",
    "y_pred = modelo_final.predict(X_test_tfidf)\n",
    "print(classification_report(y_test, y_pred))\n",
    "\n"
   ]
  },
  {
   "cell_type": "code",
   "execution_count": 19,
   "metadata": {},
   "outputs": [
    {
     "data": {
      "text/plain": [
       "['vectorizador_tfidf.pkl']"
      ]
     },
     "execution_count": 19,
     "metadata": {},
     "output_type": "execute_result"
    }
   ],
   "source": [
    "import joblib\n",
    "\n",
    "# Guardar el modelo final y el vectorizador\n",
    "joblib.dump(modelo_final, 'modelo_sentimientos_final.pkl')\n",
    "joblib.dump(vectorizer, 'vectorizador_tfidf.pkl')\n"
   ]
  }
 ],
 "metadata": {
  "kernelspec": {
   "display_name": ".venv",
   "language": "python",
   "name": "python3"
  },
  "language_info": {
   "codemirror_mode": {
    "name": "ipython",
    "version": 3
   },
   "file_extension": ".py",
   "mimetype": "text/x-python",
   "name": "python",
   "nbconvert_exporter": "python",
   "pygments_lexer": "ipython3",
   "version": "3.10.11"
  }
 },
 "nbformat": 4,
 "nbformat_minor": 2
}
